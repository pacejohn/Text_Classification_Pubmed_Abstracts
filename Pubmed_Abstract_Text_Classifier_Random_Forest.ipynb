{
 "cells": [
  {
   "cell_type": "code",
   "execution_count": null,
   "metadata": {},
   "outputs": [],
   "source": [
    "# Random Forest classifier for abstracts from Pubmed (https://pubmed.ncbi.nlm.nih.gov/).\n",
    "# 2000 abstracts from 5 categories were downloaded.  The category name was entered in the search box and the\n",
    "# first 2000 abstracts were saved.  Some abstracts are not very good examples of the category, but this\n",
    "# helps since it is more realistic.The abstracts were saved in \"Pubmed\" file format and had to be parsed to extract\n",
    "# just the abstract from each record.  Parsed files are zipped.\n",
    "\n",
    "# The categories are:\n",
    "# -Dental caries\n",
    "# -Dental pulp\n",
    "# -Periodontal disease\n",
    "# -Endodontic treatment\n",
    "# -Transposable elements\n",
    "\n",
    "# Abstracts were preprocessed, then TF-IDF vectors were created to use as input.  Other vectorization\n",
    "# could be used.  Mostly default hyperparameters were used in order to demonstrate how to do classification.\n",
    "# Try using grid search to see if you can get better accuracy results.\n",
    "\n",
    "# Last updated 12/4/20."
   ]
  },
  {
   "cell_type": "code",
   "execution_count": 1,
   "metadata": {},
   "outputs": [
    {
     "name": "stderr",
     "output_type": "stream",
     "text": [
      "c:\\users\\john.pace\\appdata\\local\\programs\\python\\python36\\lib\\site-packages\\sklearn\\ensemble\\weight_boosting.py:29: DeprecationWarning: numpy.core.umath_tests is an internal NumPy module and should not be imported. It will be removed in a future NumPy release.\n",
      "  from numpy.core.umath_tests import inner1d\n"
     ]
    }
   ],
   "source": [
    "# Imports\n",
    "import matplotlib.pyplot as plt\n",
    "import nltk\n",
    "from nltk.corpus import stopwords\n",
    "from nltk.stem import PorterStemmer, WordNetLemmatizer\n",
    "from nltk.tokenize import word_tokenize \n",
    "import numpy as np\n",
    "import pandas as pd\n",
    "import pickle\n",
    "import re\n",
    "import seaborn as sns\n",
    "import sklearn\n",
    "from sklearn.ensemble import RandomForestClassifier\n",
    "from sklearn.feature_extraction.text import TfidfVectorizer\n",
    "from sklearn.metrics import classification_report, confusion_matrix, accuracy_score\n",
    "from sklearn.model_selection import train_test_split\n",
    "from termcolor import colored\n",
    "\n",
    "\n",
    "# Variables\n",
    "num_features_to_display = 20\n"
   ]
  },
  {
   "cell_type": "code",
   "execution_count": 2,
   "metadata": {},
   "outputs": [
    {
     "name": "stdout",
     "output_type": "stream",
     "text": [
      "\u001b[31mCount of each class of abstract:\u001b[0m\n",
      "transposable_elements    1991\n",
      "endodontic_treatment     2000\n",
      "dental_caries            2000\n",
      "periodontal_disease      2000\n",
      "dental_pulp              2000\n",
      "Name: abstract_class, dtype: int64\n"
     ]
    },
    {
     "data": {
      "image/png": "[encoded data removed]",
      "text/plain": [
       "<Figure size 432x288 with 1 Axes>"
      ]
     },
     "metadata": {
      "needs_background": "light"
     },
     "output_type": "display_data"
    }
   ],
   "source": [
    "# Read the input files with the abstracts for train/test\n",
    "pubmed = pd.read_csv(\"all_combined_abstracts.csv\", header=None)\n",
    "pubmed.columns = [\"abstract_text\", \"abstract_class\"]\n",
    "X, y = pubmed[\"abstract_text\"], pubmed[\"abstract_class\"]\n",
    "\n",
    "# Some descriptive stats on the abstract\n",
    "# Count of each class of abstract\n",
    "print(colored(\"Count of each class of abstract:\", \"red\"))\n",
    "print(pubmed.abstract_class.value_counts().sort_values(ascending=True))\n",
    "\n",
    "# Print bar chart with values for each class\n",
    "pubmed.abstract_class.value_counts().sort_values(ascending=True).plot.bar()\n",
    "plt.show()"
   ]
  },
  {
   "cell_type": "code",
   "execution_count": 3,
   "metadata": {},
   "outputs": [],
   "source": [
    "# processed_abstracts will be the list of all the processed abstracts\n",
    "processed_abstracts = []\n",
    "\n",
    "# Instantiate lemmatizer and stemmer\n",
    "wnlemmatizer = WordNetLemmatizer()\n",
    "ps = PorterStemmer() \n",
    "\n",
    "#i = 0\n",
    "# Loop through all abstracts and pre-process\n",
    "for abstract in X:\n",
    "    #i += 1\n",
    "    #if not i % 10:\n",
    "    #    print(str(i))\n",
    "\n",
    "    # Replace section names\n",
    "    section_names = [\"AIM: \", \"OBJECTIVE: \", \"RESULTS: \", \"OBJECTIVES: \", \"SELECTION: \", \"PURPOSE: \",\n",
    "                    \"INTRODUCTION: \", \"METHODS: \", \"CONCLUSIONS: \", \"MATERIALS AND METHODS: \", \n",
    "                    \"BACKGROUND: \", \"CASE DESCRIPTION: \", \"CLINICAL SIGNIFICANCE: \", \n",
    "                    \"STUDY DESIGN: \", \"CONCLUSION: \"]\n",
    "    for section in section_names:\n",
    "        abstract = abstract.replace(section, \"\")\n",
    "        \n",
    "    # Replace periods and double spaces\n",
    "    abstract = abstract.replace(\".  \", \" \").replace(\". \", \" \").replace(\"  \", \" \")\n",
    "    \n",
    "    # Remove all the special characters\n",
    "    abstract = re.sub(r'\\W', ' ', abstract)\n",
    "    \n",
    "    # Remove all numbers except those appearing in words, such as APOBEC3\n",
    "    abstract = re.sub(r'\\b\\d+\\b', ' ', abstract)\n",
    "    \n",
    "    # Convert to Lowercase\n",
    "    abstract = abstract.lower()\n",
    "        \n",
    "    # Lemmatatize words\n",
    "    abstract = word_tokenize(abstract)\n",
    "    abstract = ' '.join([wnlemmatizer.lemmatize(word) for word in abstract])\n",
    "    \n",
    "    # Stem words\n",
    "    abstract = ''.join([ps.stem(word) for word in abstract])\n",
    "        \n",
    "    processed_abstracts.append(abstract)"
   ]
  },
  {
   "cell_type": "code",
   "execution_count": 4,
   "metadata": {},
   "outputs": [],
   "source": [
    "# Check to make sure the above worked\n",
    "#print(processed_abstracts[0:2])"
   ]
  },
  {
   "cell_type": "code",
   "execution_count": 5,
   "metadata": {},
   "outputs": [],
   "source": [
    "# Perform TF-IDF vectorization, removing stopwords\n",
    "# Instantiate vectorizer\n",
    "tfidfconverter = TfidfVectorizer(max_features=1500, min_df=5, max_df=0.7, stop_words=stopwords.words('english'))\n",
    "# Transform X for training\n",
    "X = tfidfconverter.fit_transform(processed_abstracts).toarray()\n",
    "# Get the feature names to be used later for feature importance\n",
    "feature_name_list = tfidfconverter.get_feature_names()\n"
   ]
  },
  {
   "cell_type": "code",
   "execution_count": 6,
   "metadata": {},
   "outputs": [],
   "source": [
    "# Train/test split\n",
    "X_train, X_test, y_train, y_test = train_test_split(X, y, test_size=0.2, random_state=42)"
   ]
  },
  {
   "cell_type": "code",
   "execution_count": 7,
   "metadata": {},
   "outputs": [
    {
     "name": "stdout",
     "output_type": "stream",
     "text": [
      "\u001b[31mFeature Importance\u001b[0m\n",
      "caries: 0.07085\n",
      "periodontal: 0.06652\n",
      "pulp: 0.05641\n",
      "disease: 0.04542\n",
      "endodontic: 0.04218\n",
      "element: 0.02894\n",
      "canal: 0.02748\n",
      "transposable: 0.02512\n",
      "dental: 0.02066\n",
      "root: 0.02064\n",
      "cell: 0.02012\n",
      "genome: 0.01517\n",
      "child: 0.01456\n",
      "gene: 0.01346\n",
      "treatment: 0.01318\n",
      "sequence: 0.01249\n",
      "transposon: 0.01080\n",
      "dna: 0.01080\n",
      "pulpal: 0.01003\n",
      "lesion: 0.00941\n",
      "endodontics: 0.00829\n"
     ]
    },
    {
     "data": {
      "image/png": "[encoded data removed]",
      "text/plain": [
       "<Figure size 432x288 with 1 Axes>"
      ]
     },
     "metadata": {
      "needs_background": "light"
     },
     "output_type": "display_data"
    }
   ],
   "source": [
    "# Instantiate classifier with mostly default hyperparameters\n",
    "rf_classifier = RandomForestClassifier(n_estimators=100, random_state=0)\n",
    "# Fit classifier\n",
    "rf_classifier.fit(X_train, y_train) \n",
    "\n",
    "# Print feature importance for features over a certain threshold\n",
    "features_dict = {}\n",
    "for i,v in enumerate(rf_classifier.feature_importances_):\n",
    "    features_dict[v] = feature_name_list[i]\n",
    "\n",
    "# Print sorted list of values\n",
    "print(colored(\"Feature Importance\", \"red\"))\n",
    "i = 0\n",
    "small_features_dict = {}\n",
    "for key in sorted(features_dict, reverse=True):\n",
    "    if i <= num_features_to_display:\n",
    "        print(\"%s: %.5f\" % (features_dict[key], key))\n",
    "        small_features_dict[features_dict[key]] = key\n",
    "        i += 1\n",
    "\n",
    "# Plot feature importance variables\n",
    "plt.bar(small_features_dict.keys(), small_features_dict.values())\n",
    "plt.xticks(rotation='vertical')\n",
    "plt.show()"
   ]
  },
  {
   "cell_type": "code",
   "execution_count": 8,
   "metadata": {},
   "outputs": [],
   "source": [
    "# Run prediction on test set\n",
    "y_pred = rf_classifier.predict(X_test)"
   ]
  },
  {
   "cell_type": "code",
   "execution_count": 9,
   "metadata": {},
   "outputs": [
    {
     "name": "stdout",
     "output_type": "stream",
     "text": [
      "\n",
      "Accuracy: 0.96048 \n",
      "\u001b[31m\n",
      "Classification Report:\u001b[0m\n",
      "                       precision    recall  f1-score   support\n",
      "\n",
      "        dental_caries       0.96      0.95      0.96       376\n",
      "          dental_pulp       0.96      0.92      0.94       403\n",
      " endodontic_treatment       0.92      0.96      0.94       418\n",
      "  periodontal_disease       0.97      0.97      0.97       391\n",
      "transposable_elements       1.00      1.00      1.00       411\n",
      "\n",
      "          avg / total       0.96      0.96      0.96      1999\n",
      "\n",
      "\u001b[31mConfusion Matrix:\u001b[0m\n"
     ]
    },
    {
     "data": {
      "image/png": "[encoded data removed]",
      "text/plain": [
       "<Figure size 432x288 with 2 Axes>"
      ]
     },
     "metadata": {
      "needs_background": "light"
     },
     "output_type": "display_data"
    }
   ],
   "source": [
    "# Print the metrics\n",
    "\n",
    "print(\"\\nAccuracy: %.5f \" % (accuracy_score(y_test, y_pred)))\n",
    "\n",
    "print(colored(\"\\nClassification Report:\", \"red\"))\n",
    "print(classification_report(y_test,y_pred))\n",
    "\n",
    "print(colored(\"Confusion Matrix:\", \"red\"))\n",
    "# Prepare the plot\n",
    "fig, ax = plt.subplots()\n",
    "tick_marks = np.arange(len(rf_classifier.classes_))\n",
    "plt.xticks(tick_marks, rf_classifier.classes_)\n",
    "plt.yticks(tick_marks, rf_classifier.classes_)\n",
    "\n",
    "# Create heatmap\n",
    "sns.heatmap(pd.DataFrame(confusion_matrix(y_test, y_pred)), annot=True, cmap=\"YlGnBu\" ,fmt='g')\n",
    "ax.xaxis.set_label_position(\"top\")\n",
    "plt.tight_layout()\n",
    "plt.title('Confusion Matrix', y=1.1)\n",
    "plt.ylabel('Actual label')\n",
    "plt.xlabel('Predicted label')\n",
    "plt.show()\n"
   ]
  },
  {
   "cell_type": "code",
   "execution_count": 16,
   "metadata": {},
   "outputs": [
    {
     "name": "stdout",
     "output_type": "stream",
     "text": [
      "Prediction: dental_caries, 0.88000.  Correct is dental_caries.\n",
      "Prediction: dental_pulp, 0.76750.  Correct is dental_pulp.\n",
      "Prediction: dental_caries, 0.45000.  Correct is endodontic_treatment.\n",
      "Prediction: periodontal_disease, 0.82000.  Correct is periodontal_disease.\n",
      "Prediction: transposable_elements, 0.87000.  Correct is transposable_elements.\n",
      "Prediction: periodontal_disease, 0.54000.  Correct is transposable_elements/periodontal_disease.\n"
     ]
    }
   ],
   "source": [
    "# Predict on unseen data, one for each category\n",
    "dental_caries_prediction = \"Aim: The aim of the study was to measure the efficiency of printed health education matters with reference to caries prevention and the endurance of knowledge acquired. Material and methods: The study included 74 parents of children coming from three kindergartens in the town of Plovdiv. Results: The results showed that the information was received well by the parents (86.2% correct answers). The repeated test after 6 months showed worse results than those from the first test, with an increase of the wrong answers (1st test - 14 wrong and 36 incomplete answers; 2nd test - 29 wrong and 44 incomplete answers). Conclusions: The information in this form is received well by the parents but requires periodic repetition for the purpose of assimilating the newly-acquired knowledge\"\n",
    "dental_pulp_prediction = \"The correlation between reduction of the coronal pulp cavity and chronological age was examined in a sample of 846 intact teeth from 433 individuals of known age and sex. Panoramic (rotational) radiography was used to measure the height (mm) of the crown (CH = coronal height) and the height (mm) of the coronal pulp cavity (CPCH = coronal pulp cavity height) of 425 premolars and 421 molars from 213 males and 220 females. The tooth-coronal index (TCI) after Ikeda et al. [1985] Jpn. J. For. Med. 39:244-250) was computed for each tooth and regressed on real age. The correlation coefficients ranged from -0.92 (molars, combined sample, right side) to -0.87 (female molars), with an S.E. of the estimate ranging from 5.88-6.66 years. Correlations were slightly higher in males than females. The equations obtained allowed estimation of age in a sample of 100 teeth from both sexes (not used for the regression) with an error of +/- 5 years in 81.4% of cases for male molars. The regression formulae for estimating age obtained from the recent sample were tested on a historical sample of 100 teeth from 100-year-old skeletons with an error of +/- 5 years in 70.3% of cases for male molars. This study illustrates the potential value of a little-known aging method which can be easily applied to estimate age in both living individuals and skeletal material of unknown age.\"\n",
    "endodontic_treatment_prediction = \"Purpose: To evaluate 1) if glass ionomer interim temporary restorations (ITR) placed for 1-3 months prior to vital pulp therapy (VPT) improved accuracy of diagnosing the pulp's clinical status and subsequent VPT success, and 2) the effect of the location of the carious lesion on VPT. Methods: Primary molars (N=117) receiving pulp therapy with or without ITR were evaluated retrospectively. All teeth had caries extending >50 percent into dentin; caries lesion location was identified (proximal or non-proximal). Two examiners rated pulp status assessment, caries location, and pulp treatment, and correlated treatment outcomes after a mean of 34.7 months to these factors. Results: VPT failed more often in first primary molars (P<.001) than in second primary molars. Using ITR improved diagnosis of the pulp status, clinical success of VPT, (P=.013) and first molar VPT success (P=.02). First primary molars had more proximal lesions than second molars (P<.001). Failure of VPT was greater for teeth with proximal lesions (P=.03). Use of ITR significantly improved VPT in teeth with proximal lesions (P=.007) but not non-proximal lesions (P=.38). Conclusions: ITR placed prior to VPT improved pulpal diagnosis and VPT outcomes. Vital pulp therapy was less successful in primary molars with proximal lesions, and ITR significantly improved the success.\"\n",
    "periodontal_disease_prediction = \"The clinical effects of systemic penicillin and erythromycin on the periodontium were investigated. There are only a few studies of the effects of these antibiotics on clinical periodontal parameters. Of the 72 subjects in the study, 24 belonged to the penicillin group, 21 to the erythromycin group and 27 to the control group. Plaque and gingival indices, tooth mobility, and probing depths of gingival pockets were recorded before the drug treatment. Radiographs were taken. Both antibiotics decreased plaque, and erythromycin also decreased gingivitis. In the penicillin group 10 of the 24 patients developed abscesses during the study, and the studied clinical parameters worsened. These patients had more severe periodontitis initially than the persons with no acute reaction. The clinical changes had returned to the baseline level by 12 weeks after the antibiotic treatments. There were no significant or lasting effects of antibiotic treatment alone in patients with overt periodontitis.\"\n",
    "transposable_elements_prediction = \"The genetic determination of the control of resistance or susceptibility to germ line changes mediated by P elements was studied in two strains and in derivatives of crosses between them. One strain, characterized as true M, completely lacked P elements. The second strain, pseudo-M (M'), carried a number of P elements, but these did not have the potential to induce the gonadal sterility that is associated with P-M hybrid dysgenesis. Individuals from the true M strain were invariably unable to suppress P factor activity (i.e., all daughters of outcrosses of M females and P males were sterile). In contrast, individuals from the M' strain showed variable degrees of suppression that were manifested in a wide range of gonadal sterility frequencies in standard tests. This continuous distribution pattern was reproducible for more than 25 generations.--The results of the genetic analysis indicate that a strain with a variable degree of suppression of gonadal dysgenesis is not necessarily in a transient state between the extreme conditions of P and M cytotype. A large variance in the ability to suppress gonadal dysgenesis with a mean value intermediate between the extremes of P and M cytotype may be a relatively stable strain characteristic. No reciprocal cross effect was observed in the suppression of sterility of F1 females from M X M' matings. Thus, the existence of M' strains indicates a Mendelian component in P element regulation and suggests that cytotype, which has an extrachromosomal aspect, may be only one of perhaps several mechanisms involved in regulation. Analysis of the effects of individual chromosomes from the M' strain showed that each chromosome contributed to the reduction of gonadal dysgenesis in the progeny of test matings. The results are consistent with a one-component titration model for P element regulation.\"\n",
    "combined_prediction = transposable_elements_prediction + periodontal_disease_prediction\n",
    "\n",
    "all_test_abstracts = [dental_caries_prediction, dental_pulp_prediction, endodontic_treatment_prediction, \n",
    "                     periodontal_disease_prediction, transposable_elements_prediction, combined_prediction]\n",
    "correct_predictions = [\"dental_caries\", \"dental_pulp\", \"endodontic_treatment\", \n",
    "                     \"periodontal_disease\", \"transposable_elements\", \"transposable_elements/periodontal_disease\"]\n",
    "\n",
    "# Make predictions and print\n",
    "for i in range(0, len(all_test_abstracts)):\n",
    "    \n",
    "    test_abstract = tfidfconverter.transform([all_test_abstracts[i]])\n",
    "\n",
    "    prediction_class = rf_classifier.predict(test_abstract)[0]\n",
    "    prediction_probability = rf_classifier.predict_proba(test_abstract)[0][np.argmax(rf_classifier.predict_proba(test_abstract))]\n",
    "    print(\"Prediction: %s, %.5f.  Correct is %s.\" % (prediction_class, prediction_probability, correct_predictions[i]))\n",
    "    "
   ]
  },
  {
   "cell_type": "code",
   "execution_count": 11,
   "metadata": {},
   "outputs": [],
   "source": [
    "# Save to pickle file\n",
    "with open('rf_abstract_classifier', 'wb') as picklefile:\n",
    "    pickle.dump(rf_classifier,picklefile)\n",
    "    "
   ]
  },
  {
   "cell_type": "code",
   "execution_count": 12,
   "metadata": {},
   "outputs": [],
   "source": []
  },
  {
   "cell_type": "code",
   "execution_count": null,
   "metadata": {},
   "outputs": [],
   "source": []
  }
 ],
 "metadata": {
  "kernelspec": {
   "display_name": "Python 3",
   "language": "python",
   "name": "python3"
  },
  "language_info": {
   "codemirror_mode": {
    "name": "ipython",
    "version": 3
   },
   "file_extension": ".py",
   "mimetype": "text/x-python",
   "name": "python",
   "nbconvert_exporter": "python",
   "pygments_lexer": "ipython3",
   "version": "3.6.2"
  }
 },
 "nbformat": 4,
 "nbformat_minor": 2
}
